{
  "nbformat": 4,
  "nbformat_minor": 0,
  "metadata": {
    "colab": {
      "provenance": []
    },
    "kernelspec": {
      "name": "python3",
      "display_name": "Python 3"
    },
    "language_info": {
      "name": "python"
    }
  },
  "cells": [
    {
      "cell_type": "code",
      "source": [
        "#!pip install python-sat"
      ],
      "metadata": {
        "id": "uOzGwuRpS10B"
      },
      "execution_count": 1,
      "outputs": []
    },
    {
      "cell_type": "code",
      "execution_count": 11,
      "metadata": {
        "id": "kzyaWkcjPRk8"
      },
      "outputs": [],
      "source": [
        "from pysat.formula import CNF\n",
        "from google.colab import files"
      ]
    },
    {
      "cell_type": "code",
      "source": [
        "cnf = CNF()"
      ],
      "metadata": {
        "id": "e5aAQRNaSJAh"
      },
      "execution_count": 3,
      "outputs": []
    },
    {
      "cell_type": "markdown",
      "source": [
        "#Generate CNF (file .cnf) automatically using pysat\n",
        "\n",
        "Predicate:\n",
        "\n",
        "1. Revealed(i, j): Represents that the tile at position (i, j) is revealed. (opposite is unrevealed) **(Denoted as variable x1)**\n",
        "2. Trap(x, y): Represents that the tile at position (i, j) is a trap. (opposite is gem) **(Denoted as variable x2)**\n",
        "3. Surrounding(i1, j1, i2, j2): Represents that the tile at position (i2, j2) is a neighbor of the tile at position (i1, j1). **(Denoted as variable x3)**\n",
        "4. Begin(i, j, k): Represents that tile at position (i, j) is a beginning tile that has k unrevealed trap surrounding it. **(Denoted as variable x4)**\n",
        "\n",
        "Function:\n",
        "\n",
        "1. countUnrevealedTiles(i, j): Return the number of surrounding unrevealed tiles of the tile at position (i, j)\n",
        "2. countRevealedTrapTiles(i, j): Return the number of trapped revealed surrounding tiles of the tile at position (i, j)\n",
        "\n",
        "Addition:\n",
        "\n",
        "1. (countUnrevealedTiles(i1, j1) + countRevealedTrapTiles(i1, j1) = k) **(Denoted as variable x5)**\n",
        "2. (k = 0) **(Denoted as variable x6)**\n",
        "3. (countRevealedTrapTiles(i1, j1) = k) **(Denoted as variable x7)**\n",
        "\n"
      ],
      "metadata": {
        "id": "WTOwrr-jMqRP"
      }
    },
    {
      "cell_type": "markdown",
      "source": [
        "##Constain 1: Each beginning tile has a number represents the number of traps (defined as 'k') surrounding it\n",
        "1. FOL\n",
        "    - ∀i, j, ∃k Begin(i, j, k)\n",
        "2. CNF\n",
        "    - Begin(i, j, k)\n",
        "3. Denote\n",
        "    - x4\n"
      ],
      "metadata": {
        "id": "dXbJHGCljHPz"
      }
    },
    {
      "cell_type": "code",
      "source": [
        "cnf.append([4])\n",
        "print(cnf.clauses)"
      ],
      "metadata": {
        "colab": {
          "base_uri": "https://localhost:8080/"
        },
        "id": "eBdp8w45kq77",
        "outputId": "69ca7169-f0b3-4789-ac4a-d0635f3730a8"
      },
      "execution_count": 4,
      "outputs": [
        {
          "output_type": "stream",
          "name": "stdout",
          "text": [
            "[[4]]\n"
          ]
        }
      ]
    },
    {
      "cell_type": "markdown",
      "source": [
        "##Constraint 2: If number of unrevealed tiles surrounding plus number of trapped tiles revealed is equal to k then all unrevealed tiles surrounding are traps and are revealed.\n",
        "1. FOL:\n",
        "    - ∀i1, j1, ∃k (Begin(i1, j,1 k) ∧ (countUnrevealedTiles(i1, j1) + countRevealedTrapTiles(i1, j1) = k)) ⇒ (∀i2, j2 (Surrounding(i1, j1, i2, j2) ∧ ~Revealed(i2, j2)) ⇒ (Revealed(i2, j2) ∧ Trap(i2, j2)))\n",
        "2. CNF:\n",
        "    - ~Begin(i1, j,1 k) V ~(countUnrevealedTiles(i1, j1) + countRevealedTrapTiles(i1, j1) = k) V ~Surrounding(i1, j1, i2, j2) V Revealed(i2, j2)\n",
        "    - ~Begin(i1, j,1 k) V ~(countUnrevealedTiles(i1, j1) + countRevealedTrapTiles(i1, j1) = k) V ~Surrounding(i1, j1, i2, j2) V Revealed(i2, j2) V Trap(i2, j2)\n",
        "3. Denote:\n",
        "    - -x4 V -x5 V -x3 V x1\n",
        "    - -x4 V -x5 V -x3 V x1 V x2"
      ],
      "metadata": {
        "id": "NE5Gp-dTMbph"
      }
    },
    {
      "cell_type": "code",
      "source": [
        "cnf.append([-4, -5, -3, 1])\n",
        "cnf.append([-4, -5, -3, 1, 2])\n",
        "print(cnf.clauses)"
      ],
      "metadata": {
        "id": "HfoojWEjPgvq",
        "colab": {
          "base_uri": "https://localhost:8080/"
        },
        "outputId": "1bd2bf6b-623f-4409-c5da-1a9dbc30b7be"
      },
      "execution_count": 5,
      "outputs": [
        {
          "output_type": "stream",
          "name": "stdout",
          "text": [
            "[[4], [-4, -5, -3, 1], [-4, -5, -3, 1, 2]]\n"
          ]
        }
      ]
    },
    {
      "cell_type": "markdown",
      "source": [
        "##Constaint 3: If k is equal to 0 then all surrounding tiles are not trap (which mean it is revealed as gem if it is an unrevealed tile)\n",
        "\n",
        "1. FOL\n",
        "    - ∀i1, j1, ∃k (Begin(i1, j1, k) ∧ (k = 0) ∧ (∀i2, j2 \\~Revealed(i2, j2) ∧ Surrounding(i1, j1, i2, j2))) ⇒ (\\~Trap(i2, j2) ∧ Revealed(i2, j2))\n",
        "2. CNF\n",
        "    - ~Begin(i1, j1, k) V ~(k = 0) V Revealed(i2, j2) V ~Surrounding(i1, j1, i2, j2) V ~Trap(i2, j2)\n",
        "    - ~Begin(i1, j1, k) V ~(k = 0) V Revealed(i2, j2) V ~Surrounding(i1, j1, i2, j2)\n",
        "3. Detone:\n",
        "    - -x4 V -x6 V x1 V -x3 V -x2\n",
        "    - -x4 V -x6 V x1 V -x3"
      ],
      "metadata": {
        "id": "6P_g5fIrgSuT"
      }
    },
    {
      "cell_type": "code",
      "source": [
        "cnf.append([-4, -6, 1, -3, -2])\n",
        "cnf.append([-4, -6, 1, -3])\n",
        "print(cnf.clauses)"
      ],
      "metadata": {
        "colab": {
          "base_uri": "https://localhost:8080/"
        },
        "id": "8cehUeVbiis8",
        "outputId": "1151204e-1b8a-45c9-f09b-c0e7df8d9ed9"
      },
      "execution_count": 6,
      "outputs": [
        {
          "output_type": "stream",
          "name": "stdout",
          "text": [
            "[[4], [-4, -5, -3, 1], [-4, -5, -3, 1, 2], [-4, -6, 1, -3, -2], [-4, -6, 1, -3]]\n"
          ]
        }
      ]
    },
    {
      "cell_type": "markdown",
      "source": [
        "##Constrain 4: If there are enough k surrounding traps being revealed then all remaining surrounding unrevealed tiles are gems.\n",
        "1. FOL:\n",
        "    - ∀i1, j1, ∃k (Begin(i1, j1, k) ∧ (countRevealedTrapTiles(i1, j1) = k)) ⇒ (∀i2, j2 (Surrounding(i1, j1, i2, j2) ∧ \\~Revealed(i2, j2)) ⇒ (\\~Trap(i2, j2) ∧ Revealed(i2, j2)))\n",
        "2. CNF:\n",
        "    - ~Begin(i1, j1, k) V ~(countRevealedTrapTiles(i1, j1) = k) V ~Surrounding(i1, j1, i2, j2) V Revealed(i2, j2) V ~Trap(i2, j2)\n",
        "    - ~Begin(i1, j1, k) V ~(countRevealedTrapTiles(i1, j1) = k) V ~Surrounding(i1, j1, i2, j2) V Revealed(i2, j2)\n",
        "3. Denote:\n",
        "    - -x4 V -x7 V -x3 V x1 V -x2\n",
        "    - -x4 V -x7 V -x3 V x1"
      ],
      "metadata": {
        "id": "IPUrIhkHixZW"
      }
    },
    {
      "cell_type": "code",
      "source": [
        "cnf.append([-4, -7, -3, 1, -2])\n",
        "cnf.append([-4, -7, -3, 1])\n",
        "print(cnf.clauses)"
      ],
      "metadata": {
        "colab": {
          "base_uri": "https://localhost:8080/"
        },
        "id": "-Jo-smmhoaY1",
        "outputId": "39b4bdc3-4ddf-45aa-b1ae-667dad489183"
      },
      "execution_count": 7,
      "outputs": [
        {
          "output_type": "stream",
          "name": "stdout",
          "text": [
            "[[4], [-4, -5, -3, 1], [-4, -5, -3, 1, 2], [-4, -6, 1, -3, -2], [-4, -6, 1, -3], [-4, -7, -3, 1, -2], [-4, -7, -3, 1]]\n"
          ]
        }
      ]
    },
    {
      "cell_type": "markdown",
      "source": [
        "##Constrain 5: For every trapped tile, there exists at least one beginning tile in its surrounding.\n",
        "1. FOL\n",
        "    - ∀i1, j1 Trap(i1, j1) ⇒ ∃i2, j2, k Begin(i2, j2, k) ∧ Surrounding(i1, j1, i2, j2)\n",
        "2. CNF\n",
        "    - ~Trap(i1, j1) V Begin(i2, j2, k)\n",
        "    - ~Trap(i1, j1) V Surrounding(i1, j1, i2, j2))\n",
        "3. Denote\n",
        "    - -x2 V x4\n",
        "    - -x2 V x3"
      ],
      "metadata": {
        "id": "QZcusKykopOZ"
      }
    },
    {
      "cell_type": "code",
      "source": [
        "cnf.append([-2, 4])\n",
        "cnf.append([-2, 3])\n",
        "print(cnf.clauses)"
      ],
      "metadata": {
        "colab": {
          "base_uri": "https://localhost:8080/"
        },
        "id": "_aMNT5ptpSj4",
        "outputId": "41e88fdf-21b9-45b5-f407-bf6afe156a55"
      },
      "execution_count": 8,
      "outputs": [
        {
          "output_type": "stream",
          "name": "stdout",
          "text": [
            "[[4], [-4, -5, -3, 1], [-4, -5, -3, 1, 2], [-4, -6, 1, -3, -2], [-4, -6, 1, -3], [-4, -7, -3, 1, -2], [-4, -7, -3, 1], [-2, 4], [-2, 3]]\n"
          ]
        }
      ]
    },
    {
      "cell_type": "markdown",
      "source": [
        "##Constraint 6: Each unrevealed tile can either be a trap or gem\n",
        "1. FOL:\n",
        "    - ∀i, j ~Revealed(i, j) ⇒ Trap(i, j) V ~Trap(i, j)\n",
        "2. CNF:\n",
        "    - Revealed(i, j) V Trap(i, j) V ~Trap(i, j)\n",
        "3. Denote:\n",
        "    - x1 V x2 V -x2"
      ],
      "metadata": {
        "id": "0e8yt9iVrSBn"
      }
    },
    {
      "cell_type": "code",
      "source": [
        "cnf.append([1, 2, -2])\n",
        "print(cnf.clauses)"
      ],
      "metadata": {
        "colab": {
          "base_uri": "https://localhost:8080/"
        },
        "id": "2_2eKBUq1a67",
        "outputId": "7db438e0-0f9b-4c18-f90c-2166bb50a353"
      },
      "execution_count": 9,
      "outputs": [
        {
          "output_type": "stream",
          "name": "stdout",
          "text": [
            "[[4], [-4, -5, -3, 1], [-4, -5, -3, 1, 2], [-4, -6, 1, -3, -2], [-4, -6, 1, -3], [-4, -7, -3, 1, -2], [-4, -7, -3, 1], [-2, 4], [-2, 3], [1, 2, -2]]\n"
          ]
        }
      ]
    },
    {
      "cell_type": "markdown",
      "source": [
        "##Write to file"
      ],
      "metadata": {
        "id": "rD9F8xFd2BOK"
      }
    },
    {
      "cell_type": "code",
      "source": [
        "cnf.to_file('GameRules.cnf')"
      ],
      "metadata": {
        "id": "Ej-Hkksw2DRT"
      },
      "execution_count": 10,
      "outputs": []
    },
    {
      "cell_type": "markdown",
      "source": [
        "##Download file"
      ],
      "metadata": {
        "id": "aP_JCoQD2VCM"
      }
    },
    {
      "cell_type": "code",
      "source": [
        "#files.download(\"GameRules.cnf\")"
      ],
      "metadata": {
        "colab": {
          "base_uri": "https://localhost:8080/",
          "height": 17
        },
        "id": "k7lFazmq2Wo7",
        "outputId": "41cd4e5a-de28-48e1-cffa-a62fc6daf382"
      },
      "execution_count": 12,
      "outputs": [
        {
          "output_type": "display_data",
          "data": {
            "text/plain": [
              "<IPython.core.display.Javascript object>"
            ],
            "application/javascript": [
              "\n",
              "    async function download(id, filename, size) {\n",
              "      if (!google.colab.kernel.accessAllowed) {\n",
              "        return;\n",
              "      }\n",
              "      const div = document.createElement('div');\n",
              "      const label = document.createElement('label');\n",
              "      label.textContent = `Downloading \"${filename}\": `;\n",
              "      div.appendChild(label);\n",
              "      const progress = document.createElement('progress');\n",
              "      progress.max = size;\n",
              "      div.appendChild(progress);\n",
              "      document.body.appendChild(div);\n",
              "\n",
              "      const buffers = [];\n",
              "      let downloaded = 0;\n",
              "\n",
              "      const channel = await google.colab.kernel.comms.open(id);\n",
              "      // Send a message to notify the kernel that we're ready.\n",
              "      channel.send({})\n",
              "\n",
              "      for await (const message of channel.messages) {\n",
              "        // Send a message to notify the kernel that we're ready.\n",
              "        channel.send({})\n",
              "        if (message.buffers) {\n",
              "          for (const buffer of message.buffers) {\n",
              "            buffers.push(buffer);\n",
              "            downloaded += buffer.byteLength;\n",
              "            progress.value = downloaded;\n",
              "          }\n",
              "        }\n",
              "      }\n",
              "      const blob = new Blob(buffers, {type: 'application/binary'});\n",
              "      const a = document.createElement('a');\n",
              "      a.href = window.URL.createObjectURL(blob);\n",
              "      a.download = filename;\n",
              "      div.appendChild(a);\n",
              "      a.click();\n",
              "      div.remove();\n",
              "    }\n",
              "  "
            ]
          },
          "metadata": {}
        },
        {
          "output_type": "display_data",
          "data": {
            "text/plain": [
              "<IPython.core.display.Javascript object>"
            ],
            "application/javascript": [
              "download(\"download_51e5a8da-4d12-4f30-9715-50d7d716e4e0\", \"GameRules.cnf\", 124)"
            ]
          },
          "metadata": {}
        }
      ]
    }
  ]
}